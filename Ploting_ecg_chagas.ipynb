{
 "cells": [
  {
   "cell_type": "code",
   "execution_count": 3,
   "id": "e6df894d-2293-48aa-988a-8bbbb2bb20ac",
   "metadata": {},
   "outputs": [
    {
     "name": "stdout",
     "output_type": "stream",
     "text": [
      "Finding the Challenge data...\n"
     ]
    }
   ],
   "source": [
    "import wfdb\n",
    "import numpy as np\n",
    "from matplotlib import pyplot as plt\n",
    "from helper_code import *\n",
    "from utilities import *\n",
    "import pandas as pd\n",
    "import matplotlib.pyplot as plt\n",
    "import seaborn as sns\n",
    "from sklearn.preprocessing import StandardScaler\n",
    "import ecg_plot\n",
    "\n",
    "\n",
    "data_folder = \"data/micro_code_sami/\"\n",
    "print('Finding the Challenge data...')\n",
    "records = find_records(data_folder)\n",
    "num_records = len(records)\n",
    "\n",
    "if num_records == 0:\n",
    "    raise FileNotFoundError('No data were provided.')\n",
    "\n",
    "utilObject = UtilityFunctions(\"cpu\")\n",
    "sampling_rate = 400\n",
    "leads_idxs = {'I': 0, 'II': 1, 'III':2, 'aVR': 3, 'aVL':4, 'aVF':5, 'V1':6, 'V2':7, 'V3':8, 'V4':9, 'V5':10, 'V6':11}\n",
    "\n",
    "positive_counter = 0\n",
    "negative_counter = 0\n",
    "sami_trop_counter = 0\n",
    "limit = 2\n",
    "# Iterate over the records.\n",
    "for i in range(num_records):\n",
    "    recording_file = os.path.join(data_folder, records[i])\n",
    "    header_file = os.path.join(data_folder, get_header_file(records[i]))\n",
    "    header = load_header(recording_file)\n",
    "    try:\n",
    "        current_label= get_label(header)\n",
    "    except Exception as e:\n",
    "        print(\"Failed to load label, assigning 0\")\n",
    "        current_label = 0\n",
    "    \n",
    "    try:\n",
    "        signal, fields = load_signals(recording_file)\n",
    "    except Exception as e:\n",
    "        print(f\"Skipping {header_file} and associated recording  because of {e}\")\n",
    "        continue\n",
    "\n",
    "    recording_full = utilObject.load_and_equalize_recording(signal, fields, header_file, sampling_rate)\n",
    "\n",
    "    splitted = header.split(\"\\n\")\n",
    "    source_info = [x for x in splitted if \"Source\" in x][0]\n",
    "\n",
    "    if current_label == 0 and negative_counter <= limit and \"CODE\" in source_info:\n",
    "        ecg_plot.plot_12(recording_full, sample_rate = 400, title = f\"ECG 12 - HEALTHY-{source_info}\")\n",
    "        ecg_plot.save_as_png(f\"ECG 12 - HEALTHY -{source_info}-{i}\",'plots/')\n",
    "        negative_counter += 1\n",
    "        \n",
    "    if current_label == 1 and positive_counter <= limit and \"CODE\" in source_info:\n",
    "        ecg_plot.plot_12(recording_full, sample_rate = 400, title = f\"ECG 12 - CHAGAS-{source_info}\")\n",
    "        ecg_plot.save_as_png(f\"ECG 12 - CHAGAS-{source_info}-{i}\",'plots/')\n",
    "        positive_counter += 1\n",
    "        \n",
    "    if current_label == 1 and sami_trop_counter <= limit and \"SaMi\" in source_info:\n",
    "        ecg_plot.plot_12(recording_full, sample_rate = 400, title = f\"ECG 12 - CHAGAS-{source_info}\")\n",
    "        ecg_plot.save_as_png(f\"ECG 12 - CHAGAS-{source_info}-{i}\",'plots/')\n",
    "        sami_trop_counter += 1\n",
    "        \n",
    "    if positive_counter > limit and negative_counter > limit and sami_trop_counter > limit:\n",
    "        break\n",
    "    "
   ]
  },
  {
   "cell_type": "code",
   "execution_count": null,
   "id": "922e3d4b-2293-4847-ba0a-faa2b61576f6",
   "metadata": {},
   "outputs": [],
   "source": []
  }
 ],
 "metadata": {
  "kernelspec": {
   "display_name": "Python 3 (ipykernel)",
   "language": "python",
   "name": "python3"
  },
  "language_info": {
   "codemirror_mode": {
    "name": "ipython",
    "version": 3
   },
   "file_extension": ".py",
   "mimetype": "text/x-python",
   "name": "python",
   "nbconvert_exporter": "python",
   "pygments_lexer": "ipython3",
   "version": "3.12.9"
  }
 },
 "nbformat": 4,
 "nbformat_minor": 5
}
